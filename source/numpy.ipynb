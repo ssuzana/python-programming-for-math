{
 "cells": [
  {
   "cell_type": "markdown",
   "metadata": {},
   "source": [
    "# Numpy\n",
    "\n",
    "[NumPy](https://numpy.org/doc/stable/index.html), short for \"Numerical Python,\" provides support for large, multi-dimensional arrays and matrices, along with a collection of mathematical functions to operate on these arrays. Its implementation in C contributes to the enhanced speed and memory efficiency of NumPy arrays compared to Python lists.\n",
    "\n",
    "Here are some key features of NumPy:\n",
    "\n",
    "* Arrays: NumPy's main object is the ndarray (n-dimensional array). Although a Python list allows for the inclusion of various data types in a single list, NumPy arrays require homogeneity among their elements. The efficiency of mathematical operations designed for arrays would be significantly compromised if the arrays were not homogeneous.\n",
    "\n",
    "* Mathematical Operations: NumPy provides a variety of mathematical functions that operate on entire arrays without the need for explicit looping. This makes code using NumPy concise and often more efficient than equivalent operations with standard Python lists.\n",
    "\n",
    "* Broadcasting: NumPy supports broadcasting, which allows operations between arrays of different shapes and sizes. This feature makes it possible to perform element-wise operations on arrays of different shapes without the need for explicit loops.\n",
    "\n",
    "* Linear Algebra Operations: NumPy includes a set of functions for linear algebra operations, such as matrix multiplication, inversion, eigenvalue decomposition, and more. These functionalities are crucial in scientific and machine learning applications.\n",
    "\n",
    "* Random Number Generation: NumPy provides tools for working with random numbers, including functions for generating random data from various probability distributions.\n",
    "\n",
    "* Integration with Other Libraries: NumPy is often used in conjunction with other libraries in the Python scientific computing ecosystem, such as SciPy (Scientific Python), Matplotlib (for plotting), and scikit-learn (for machine learning).\n",
    "\n",
    "Also check out the [absolute beginner’s guide to NumPy](https://numpy.org/doc/stable/user/absolute_beginners.html).\n",
    "\n",
    "For better readability of code using NumPy, it is common practice to import NumPy with a shortened alias like `import numpy as np`. This convention makes code using NumPy more readable and understandable for others. Using a shortened name like `np` is widely adopted across the NumPy community. \n",
    "\n",
    "Here's a simple example of using NumPy to create an array and perform some basic operations:\n",
    "\n"
   ]
  },
  {
   "cell_type": "code",
   "execution_count": 6,
   "metadata": {},
   "outputs": [],
   "source": [
    "# pip install numpy "
   ]
  },
  {
   "cell_type": "code",
   "execution_count": 7,
   "metadata": {},
   "outputs": [
    {
     "name": "stdout",
     "output_type": "stream",
     "text": [
      "Original Array: [1 2 3 4 5]\n",
      "Mean: 3.0\n",
      "Squared Values: [ 1  4  9 16 25]\n"
     ]
    }
   ],
   "source": [
    "import numpy as np\n",
    "\n",
    "# Creating a NumPy array\n",
    "arr = np.array([1, 2, 3, 4, 5])\n",
    "\n",
    "# Performing operations on the array\n",
    "mean_value = np.mean(arr)\n",
    "square_values = np.square(arr)\n",
    "\n",
    "print(\"Original Array:\", arr)\n",
    "print(\"Mean:\", mean_value)\n",
    "print(\"Squared Values:\", square_values)"
   ]
  }
 ],
 "metadata": {
  "kernelspec": {
   "display_name": "venv",
   "language": "python",
   "name": "python3"
  },
  "language_info": {
   "codemirror_mode": {
    "name": "ipython",
    "version": 3
   },
   "file_extension": ".py",
   "mimetype": "text/x-python",
   "name": "python",
   "nbconvert_exporter": "python",
   "pygments_lexer": "ipython3",
   "version": "3.11.0"
  }
 },
 "nbformat": 4,
 "nbformat_minor": 2
}
