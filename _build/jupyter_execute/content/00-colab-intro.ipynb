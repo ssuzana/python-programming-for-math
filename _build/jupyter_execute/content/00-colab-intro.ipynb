{
 "cells": [
  {
   "cell_type": "markdown",
   "metadata": {},
   "source": [
    "# Google Colab Notebooks\n",
    "\n",
    "A Jupyter Notebook is a document format that allows you to combine executable code along with text, images, equations, into a single, shareable file. Jupyter Notebooks use the file extension \".ipynb\" which stands for \"IPython NoteBook\".\n",
    "\n",
    "[Google Colab](https://colab.google/) (Colaboratory) is an online platform provided by Google that allows users to create, edit, and run Jupyter Notebooks without the need for local installation. To create a Google Colab Notebook, access your [Google Drive](https://drive.google.com/). Navigate to New → More → Google Colaboratory."
   ]
  },
  {
   "cell_type": "markdown",
   "metadata": {},
   "source": [
    "![Your GIF Title](img/colab-intro.gif)"
   ]
  },
  {
   "cell_type": "markdown",
   "metadata": {},
   "source": [
    "After you have created a new notebook, you will see an empty code cell. Python code can be entered into these code cells and executed at any time by either clicking the Play button to the left of the code cell or by pressing **Command/Ctrl+Enter**.  At the top of your notebook, there are two buttons: `+ Code` and `+ Text`. Clicking `+ Code` allows you to insert a new code cell, while clicking `+ Text` lets you add a text cell to your notebook. Note that the Google Colab Notebook will need to connect to a Runtime in order to execute any code.\n",
    "\n",
    "![Your GIF Title](img/cell-execute.gif)"
   ]
  },
  {
   "cell_type": "markdown",
   "metadata": {},
   "source": [
    "Text cells in Colab support Markdown, allowing users to format text easily. Markdown enables the addition of headings, lists, links, images, tables, and more, enhancing the readability and organization of the content. Search for ‘Markdown cheatsheet’ to get a quick start with Markdown."
   ]
  },
  {
   "cell_type": "markdown",
   "metadata": {},
   "source": [
    "If you cannot access the Google Colab Notebooks or would like to run everything locally on your computer, then I recommend installing [Anaconda](https://www.anaconda.com/products/individual). "
   ]
  },
  {
   "cell_type": "markdown",
   "metadata": {},
   "source": []
  }
 ],
 "metadata": {
  "kernelspec": {
   "display_name": "Python 3",
   "language": "python",
   "name": "python3"
  },
  "language_info": {
   "codemirror_mode": {
    "name": "ipython",
    "version": 3
   },
   "file_extension": ".py",
   "mimetype": "text/x-python",
   "name": "python",
   "nbconvert_exporter": "python",
   "pygments_lexer": "ipython3",
   "version": "3.10.11"
  }
 },
 "nbformat": 4,
 "nbformat_minor": 2
}