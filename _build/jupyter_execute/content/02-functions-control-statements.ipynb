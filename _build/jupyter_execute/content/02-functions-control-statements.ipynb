{
 "cells": [
  {
   "cell_type": "markdown",
   "metadata": {
    "id": "K-XYXmmluXdg"
   },
   "source": [
    "# Functions and Control Statements"
   ]
  },
  {
   "cell_type": "markdown",
   "metadata": {
    "id": "xvBm3ReiuXdj"
   },
   "source": [
    "A distinguishing property of *programming* languages is that the programmer can create their own *functions*.  Creating a *function* is like teaching the computer a new trick.  Typically a function will receive some data as *input*, will perform an *algorithm* involving the input data, and will *output* data when the algorithm terminates.  \n",
    "\n",
    "In this part, we explore Python functions.  We also explore control statements, which allow a program to behave in different ways for different inputs.  We also introduce the *while loop*, a loop whose repetition can be more carefully controlled than a *for loop*.  As an application of these techniques, we implement the Euclidean algorithm as a Python function in a few ways, to effectively find the GCD of integers.\n",
    "\n",
    "At the end, you will be prepared to explore the Collatz conjecture."
   ]
  },
  {
   "cell_type": "markdown",
   "metadata": {
    "id": "Cw0CHgACuXdk"
   },
   "source": [
    "## Getting started with Python functions"
   ]
  },
  {
   "cell_type": "markdown",
   "metadata": {
    "id": "o0UhM3CKuXdk"
   },
   "source": [
    "A *function* in Python is a construction which takes input data, performs some actions, and outputs data.  It is best to start with a few examples and break down the code.  Here is a function `square`.  "
   ]
  },
  {
   "cell_type": "code",
   "execution_count": 1,
   "metadata": {
    "id": "-sH7F-YEuXdk"
   },
   "outputs": [],
   "source": [
    "def square(x):\n",
    "    answer = x * x\n",
    "    return answer"
   ]
  },
  {
   "cell_type": "markdown",
   "metadata": {
    "id": "C6tqVsj6u4Ic"
   },
   "source": [
    "To see \"under the hood\" what Python is doing, we import the Python disassembler."
   ]
  },
  {
   "cell_type": "code",
   "execution_count": 2,
   "metadata": {
    "id": "v-H2v_wOuXdl"
   },
   "outputs": [],
   "source": [
    "from dis import dis"
   ]
  },
  {
   "cell_type": "code",
   "execution_count": 3,
   "metadata": {
    "id": "6ZYvlyCYuXdl"
   },
   "outputs": [
    {
     "name": "stdout",
     "output_type": "stream",
     "text": [
      "  2           0 LOAD_FAST                0 (x)\n",
      "              2 LOAD_FAST                0 (x)\n",
      "              4 BINARY_MULTIPLY\n",
      "              6 STORE_FAST               1 (answer)\n",
      "\n",
      "  3           8 LOAD_FAST                1 (answer)\n",
      "             10 RETURN_VALUE\n"
     ]
    }
   ],
   "source": [
    "dis(square)"
   ]
  },
  {
   "cell_type": "markdown",
   "metadata": {
    "id": "p43oP8AquXdm"
   },
   "source": [
    "When you run the code block, you probably didn't see anything happen.  But you have effectively taught your computer a new trick, increasing the vocabulary of commands it understands through the Python interpreter.  \n",
    "\n",
    "More specifically, Python has turned your neat \"square function\" into a series of very quickly runnable commands (\"LOAD_FAST\" and \"BINARY_MULTIPLY\").  That way, every time you want to use your square function, Python will just go through the same series of quick operations.\n",
    "\n",
    "You don't really need to know the \"disassembled\" square function above... you can use the `square` command as you wish."
   ]
  },
  {
   "cell_type": "code",
   "execution_count": 4,
   "metadata": {
    "id": "J1Drx8OauXdm"
   },
   "outputs": [
    {
     "data": {
      "text/plain": [
       "144"
      ]
     },
     "execution_count": 4,
     "metadata": {},
     "output_type": "execute_result"
    }
   ],
   "source": [
    "square(12)"
   ]
  },
  {
   "cell_type": "code",
   "execution_count": 5,
   "metadata": {
    "id": "RPfYsUfAuXdm"
   },
   "outputs": [
    {
     "data": {
      "text/plain": [
       "2.25"
      ]
     },
     "execution_count": 5,
     "metadata": {},
     "output_type": "execute_result"
    }
   ],
   "source": [
    "square(1.5)"
   ]
  },
  {
   "cell_type": "markdown",
   "metadata": {
    "id": "83KgYRaIuXdm"
   },
   "source": [
    "Let's break down the syntax of the *function declaration*, line by line.\n",
    "\n",
    "```python\n",
    "def square(x):\n",
    "    answer = x * x\n",
    "    return answer\n",
    "```\n",
    "\n",
    "The first line begins with the Python reserved word `def`.  (So don't use `def` as a variable name!).  The word `def` stands for \"define\" and it defines a function called `square`.  After the function name `square` comes parentheses `(x)` containing the **argument** `x`.  The *arguments* or *parameters* of a function refer to the input data.  Even if your function has no arguments, you need parentheses.  The argument `x` is used to name whatever number is input into the `square` function.  \n",
    "\n",
    "At the end of the function declaration line is a colon `:` and the following two lines are indented.  As in the case of for loops, the colon and indentation are signals of *scope*.  Everything on the indented lines is considered within the *scope of the function* and is carried out when the function is used later.\n",
    "\n",
    "The second line `answer = x * x` is the beginning of the scope of the function.  It declares a variable `answer` and sets the value to be `x * x`.  So if the argument `x` is 12, then `answer` will be set to 144.  The variable `answer`, being declared within the scope of the function, will not be accessible outside the scope of the function.  It is called a **local variable**.\n",
    "\n",
    "The last line `return answer` contains the Python reserved word `return`, which terminates the function and outputs the value of the variable `answer`.  So when you apply the function with the command `square(1.5)`, the number `1.5` is `passed` as the argument `x`, and `answer` is `2.25`, and that number `2.25` becomes the output."
   ]
  },
  {
   "cell_type": "markdown",
   "metadata": {
    "id": "v_nIkzhAuXdn"
   },
   "source": [
    "A function does not have to return a value.  Some functions might just provide some information.  Here is a function which displays the result of division with remainder as a sentence with addition and multiplication."
   ]
  },
  {
   "cell_type": "code",
   "execution_count": 6,
   "metadata": {
    "id": "kblJD_kQuXdn"
   },
   "outputs": [],
   "source": [
    "def display_divmod(a,b):\n",
    "    quotient = a // b # Integer division\n",
    "    remainder = a % b #\n",
    "    print(\"{} = {} ({}) + {}\".format(a,quotient,b,remainder))"
   ]
  },
  {
   "cell_type": "markdown",
   "metadata": {
    "id": "g8zsMb4av9Pu"
   },
   "source": [
    "Below, we can run the function to see the output."
   ]
  },
  {
   "cell_type": "code",
   "execution_count": 7,
   "metadata": {
    "id": "-5N5Px0XuXdn",
    "scrolled": true
   },
   "outputs": [
    {
     "name": "stdout",
     "output_type": "stream",
     "text": [
      "23 = 4 (5) + 3\n"
     ]
    }
   ],
   "source": [
    "display_divmod(23,5)"
   ]
  },
  {
   "cell_type": "markdown",
   "metadata": {
    "id": "JUD5Y7FLuXdn"
   },
   "source": [
    "Notice that this function has no `return` line.  The function terminates automatically at the end of its scope.\n",
    "\n",
    "The function also uses Python's **string formatting**.  This has changed between Python 2.x and 3.x, and this notebook uses Python 3.x syntax.\n",
    "\n",
    "String formatting allows you to insert placeholders like `{}` within a string, and later fill those places with a list of things.  "
   ]
  },
  {
   "cell_type": "code",
   "execution_count": 8,
   "metadata": {
    "id": "qYo13qoyuXdn"
   },
   "outputs": [
    {
     "name": "stdout",
     "output_type": "stream",
     "text": [
      "My favorite number is 17\n"
     ]
    }
   ],
   "source": [
    "print(\"My favorite number is {}\".format(17))  # The .format \"method\" substitutes 17 for {}"
   ]
  },
  {
   "cell_type": "code",
   "execution_count": 9,
   "metadata": {
    "id": "-XwFB1SBuXdo"
   },
   "outputs": [
    {
     "name": "stdout",
     "output_type": "stream",
     "text": [
      "13 + 12 = 25\n"
     ]
    }
   ],
   "source": [
    "print(\"{} + {} = {}\".format(13,12,13+12))"
   ]
  },
  {
   "cell_type": "markdown",
   "metadata": {
    "id": "6_WwWoLOuXdo"
   },
   "source": [
    "The `format` command is an example of a **string method**.  It has the effect of replacing all placeholders `{}` by the its inputs, in sequence.  There is an intricate syntax for these placeholders, to allow one to match placeholders with values in different orders, and to format different kinds of values.  Here is the [official reference for string formatting in Python 3.x](https://docs.python.org/3/library/string.html#formatstrings).  We will only use the most basic features, exhibited below."
   ]
  },
  {
   "cell_type": "code",
   "execution_count": 10,
   "metadata": {
    "id": "IVmzfGzsuXdo"
   },
   "outputs": [
    {
     "name": "stdout",
     "output_type": "stream",
     "text": [
      "The number 1 comes before 2.\n",
      "The number 2 comes before 1.\n",
      "The number 2 comes before 2.\n"
     ]
    }
   ],
   "source": [
    "print (\"The number {} comes before {}.\".format(1,2)) # This should be familiar.\n",
    "print (\"The number {1} comes before {0}.\".format(1,2)) # What happens?\n",
    "print (\"The number {1} comes before {1}.\".format(1,2)) # Got it now?"
   ]
  },
  {
   "cell_type": "markdown",
   "metadata": {
    "id": "ITCX3DmduXdo"
   },
   "source": [
    "By placing a number in the placeholder, like `{1}`, one can fill in the placeholders with the values in a different order, or repeat the same value.  The format method takes multiple parameters, and they are numbered:  parameter 0, parameter 1, parameter 2, etc..  So the placeholder `{1}` will be replaced by the second parameter (parameter 1).  It's confusing at first, but Python almost always starts counting at zero."
   ]
  },
  {
   "cell_type": "code",
   "execution_count": 11,
   "metadata": {
    "id": "cDQWP_m4uXdo"
   },
   "outputs": [
    {
     "name": "stdout",
     "output_type": "stream",
     "text": [
      "pi is approximately 3.14159265\n",
      "pi is approximately 3.141593\n",
      "pi is approximately 3.142\n"
     ]
    }
   ],
   "source": [
    "print(\"pi is approximately {0}\".format(3.14159265))\n",
    "print(\"pi is approximately {0:f}\".format(3.14159265)) # The \"f\" in \"0:f\" formats the float.\n",
    "print(\"pi is approximately {0:0.3f}\".format(3.14159265)) # Choose 3 digits of precision."
   ]
  },
  {
   "cell_type": "markdown",
   "metadata": {
    "id": "W9QjcrivuXdp"
   },
   "source": [
    "If you give some information about how the placeholder is being used, the format method will format things more nicely for printing.  The placeholder `{0:f}` will be replaced by parameter 0, and it will be formatted in a way that is nice for floats (hence the `f`). "
   ]
  },
  {
   "cell_type": "code",
   "execution_count": 12,
   "metadata": {
    "id": "WI4b7-z6uXdp"
   },
   "outputs": [
    {
     "name": "stdout",
     "output_type": "stream",
     "text": [
      "1267650600228229401496703205376 is a pretty big integer.\n",
      "1267650600228229401496703205376.000000 is an integer, formatted like a float.\n",
      "0.142857 is a float, of course.\n",
      "Hi there! is a string.\n"
     ]
    }
   ],
   "source": [
    "print(\"{:d} is a pretty big integer.\".format(2**100)) # d is the formatting code for integers.\n",
    "print(\"{:f} is an integer, formatted like a float.\".format(2**100))\n",
    "print(\"{:f} is a float, of course.\".format(1/7))\n",
    "print(\"{:s} is a string.\".format('Hi there!')) # s is the formatting code for strings.\n"
   ]
  },
  {
   "cell_type": "code",
   "execution_count": 13,
   "metadata": {},
   "outputs": [
    {
     "ename": "ValueError",
     "evalue": "Unknown format code 'd' for object of type 'float'",
     "output_type": "error",
     "traceback": [
      "\u001b[0;31m---------------------------------------------------------------------------\u001b[0m",
      "\u001b[0;31mValueError\u001b[0m                                Traceback (most recent call last)",
      "Cell \u001b[0;32mIn[13], line 2\u001b[0m\n\u001b[1;32m      1\u001b[0m \u001b[38;5;66;03m#  Don't try formatting things outside of their type!\u001b[39;00m\n\u001b[0;32m----> 2\u001b[0m \u001b[38;5;28mprint\u001b[39m(\u001b[38;5;124;43m\"\u001b[39;49m\u001b[38;5;132;43;01m{:d}\u001b[39;49;00m\u001b[38;5;124;43m will give us an error message.\u001b[39;49m\u001b[38;5;124;43m\"\u001b[39;49m\u001b[38;5;241;43m.\u001b[39;49m\u001b[43mformat\u001b[49m\u001b[43m(\u001b[49m\u001b[38;5;241;43m1\u001b[39;49m\u001b[38;5;241;43m/\u001b[39;49m\u001b[38;5;241;43m7\u001b[39;49m\u001b[43m)\u001b[49m)\n",
      "\u001b[0;31mValueError\u001b[0m: Unknown format code 'd' for object of type 'float'"
     ]
    }
   ],
   "source": [
    "#  Don't try formatting things outside of their type!\n",
    "print(\"{:d} will give us an error message.\".format(1/7))"
   ]
  },
  {
   "cell_type": "code",
   "execution_count": 19,
   "metadata": {
    "id": "Xa4ug6SMuXdp"
   },
   "outputs": [
    {
     "name": "stdout",
     "output_type": "stream",
     "text": [
      "The square root of 1000 is about 31.622777.\n"
     ]
    }
   ],
   "source": [
    "from math import sqrt  # Make sure the square root function is loaded.\n",
    "print(\"The square root of {0:d} is about {1:f}.\".format(1000, sqrt(1000)))"
   ]
  },
  {
   "cell_type": "markdown",
   "metadata": {},
   "source": [
    "**F-strings** provide a more concise and convenient way to embed python expressions inside string literals for formatting. Their syntax resembles that of `.format()`, yet it's more succinct. Simply start your string literal with a lowercase or uppercase 'f' and insert your values, objects, or expressions within curly brackets at designated spots. Here are a few examples of how you can use f-strings in Python:"
   ]
  },
  {
   "cell_type": "code",
   "execution_count": 20,
   "metadata": {},
   "outputs": [
    {
     "name": "stdout",
     "output_type": "stream",
     "text": [
      "My favorite number is 17\n"
     ]
    }
   ],
   "source": [
    "my_num = 17\n",
    "print(F\"My favorite number is {my_num}\") "
   ]
  },
  {
   "cell_type": "code",
   "execution_count": 21,
   "metadata": {},
   "outputs": [
    {
     "name": "stdout",
     "output_type": "stream",
     "text": [
      "Hello, my name is Alice and I am 21 years old.\n"
     ]
    }
   ],
   "source": [
    "name = \"Alice\"\n",
    "age = 21\n",
    "print(f\"Hello, my name is {name} and I am {age} years old.\")"
   ]
  },
  {
   "cell_type": "code",
   "execution_count": 23,
   "metadata": {},
   "outputs": [
    {
     "name": "stdout",
     "output_type": "stream",
     "text": [
      "The sum of 10 and 20 is 30.\n"
     ]
    }
   ],
   "source": [
    "a = 10\n",
    "b = 20\n",
    "print(f\"The sum of {a} and {b} is {a + b}.\")"
   ]
  },
  {
   "cell_type": "code",
   "execution_count": 24,
   "metadata": {},
   "outputs": [
    {
     "name": "stdout",
     "output_type": "stream",
     "text": [
      "Pi value with 2 decimal places: 3.14\n"
     ]
    }
   ],
   "source": [
    "pi = 3.14159\n",
    "print(f\"Pi value with 2 decimal places: {pi:.2f}\")"
   ]
  },
  {
   "cell_type": "markdown",
   "metadata": {
    "id": "o-JZI8kbuXdp"
   },
   "source": [
    "## Control statements"
   ]
  },
  {
   "cell_type": "markdown",
   "metadata": {
    "id": "RoalaxvHuXdq"
   },
   "source": [
    "It is important for a computer program to behave differently under different circumstances.  The simplest control statements, `if` and its relative `else`, can be used to tell Python to carry out different actions depending on the value of a boolean variable.  The following function exhibits the syntax."
   ]
  },
  {
   "cell_type": "code",
   "execution_count": 36,
   "metadata": {
    "id": "d8Fw2EdWuXdq"
   },
   "outputs": [],
   "source": [
    "def is_even(n):\n",
    "    if n%2 == 0:\n",
    "        print(f\"{n} is even.\")\n",
    "        return True\n",
    "    else:\n",
    "        print(f\"{n} is odd.\")\n",
    "        return False"
   ]
  },
  {
   "cell_type": "code",
   "execution_count": 37,
   "metadata": {
    "id": "Ki1TLpgcuXdq"
   },
   "outputs": [
    {
     "name": "stdout",
     "output_type": "stream",
     "text": [
      "17 is odd.\n"
     ]
    },
    {
     "data": {
      "text/plain": [
       "False"
      ]
     },
     "execution_count": 37,
     "metadata": {},
     "output_type": "execute_result"
    }
   ],
   "source": [
    "is_even(17)"
   ]
  },
  {
   "cell_type": "code",
   "execution_count": 38,
   "metadata": {
    "id": "KXfWwovKuXdq"
   },
   "outputs": [
    {
     "name": "stdout",
     "output_type": "stream",
     "text": [
      "1000 is even.\n"
     ]
    },
    {
     "data": {
      "text/plain": [
       "True"
      ]
     },
     "execution_count": 38,
     "metadata": {},
     "output_type": "execute_result"
    }
   ],
   "source": [
    "is_even(1000)"
   ]
  },
  {
   "cell_type": "markdown",
   "metadata": {
    "id": "HCZgs7ucuXdq"
   },
   "source": [
    "The broad syntax of the function should be familiar.  We have created a function called `is_even` with one argument called `n`.  The body of the function uses the **control statement** `if n%2 == 0:`.  Recall that `n%2` gives the remainder after dividing `n` by `2`.  Thus `n%2` is 0 or 1, depending on whether `n` is even or odd.  Therefore the **boolean** `n%2 == 0` is `True` if `n` is even, and `False` if `n` is odd.\n",
    "\n",
    "The next two lines (the first `print` and `return` statements) are within the **scope** of the `if <boolean>:` statement, as indicated by the colon and the indentation.  The `if <boolean>:` statement tells the Python interpreter to perform the statements within the scope if the boolean is `True`, and to ignore the statements within the scope if the boolean is `False`.\n",
    "\n",
    "Putting it together, we can analyze the code.\n",
    "```python\n",
    "    if n%2 == 0:\n",
    "        print(f\"{n} is even.\")\n",
    "        return True\n",
    "```\n",
    "If `n` is even, then the Python interpreter will print a sentence of the form `n is even`.  Then the interpreter will return (output) the value `True` and the function will terminate.  If `n` is odd, the Python interpreter will ignore the two lines of scope."
   ]
  },
  {
   "cell_type": "markdown",
   "metadata": {
    "id": "9i0HhA_wuXdq"
   },
   "source": [
    "Often we don't just want Python to *do nothing* when a condition is not satisfied.  In the case above, we would rather Python tell us that the number is odd.  The `else:` control statement tells Python what to do in case the `if <boolean>:` control statement receives a `False` boolean.  We analyze the code\n",
    "```python\n",
    "    else:\n",
    "        print(f\"{n} is odd.\")\n",
    "        return False\n",
    "```\n",
    "The `print` and `return` commands are within the scope of the `else:` control statement.  So when the `if` statement receives a false signal (the number `n` is odd), the program prints a sentence of the form `n is odd.` and then returns the value `False` and terminates the function."
   ]
  },
  {
   "cell_type": "markdown",
   "metadata": {
    "id": "2ZZTXkc3uXdq"
   },
   "source": [
    "The function `is_even` is a verbose, or \"talkative\" sort of function.  Such a function is sometimes useful in an interactive setting, where the programmer wants to understand everything that's going on.  But if the function had to be called a million times, the screen would fill with printed sentences!  In practice, an efficient and silent function `is_even` might look like the following."
   ]
  },
  {
   "cell_type": "code",
   "execution_count": 39,
   "metadata": {
    "id": "JnCmNtv7uXdr"
   },
   "outputs": [],
   "source": [
    "def is_even(n):\n",
    "    return (n%2 == 0)"
   ]
  },
  {
   "cell_type": "code",
   "execution_count": 40,
   "metadata": {
    "id": "qJVILvBfuXdr"
   },
   "outputs": [
    {
     "data": {
      "text/plain": [
       "False"
      ]
     },
     "execution_count": 40,
     "metadata": {},
     "output_type": "execute_result"
    }
   ],
   "source": [
    "is_even(17)"
   ]
  },
  {
   "cell_type": "markdown",
   "metadata": {
    "id": "sy9_xgM7uXdr"
   },
   "source": [
    "A `for` loop and an `if` control statement, used together, allow us to carry out a **brute force** search.  We can search for factors in order to check whether a number is prime.  Or we can look for solutions to an equation until we find one.\n",
    "\n",
    "One thing to note:  the function below begins with a block of text between a triple-quote (three single-quotes when typing).  That text is called a **docstring** and it is meant to document what the function does.  Writing clear docstrings becomes more important as you write longer programs, collaborate with other programmers, and when you want to return months or years later to use a program again.  There are different style conventions for docstrings; for example, here are [Google's docstring conventions](https://google.github.io/styleguide/pyguide.html?showone=Comments#Comments).  We take a less formal approach."
   ]
  },
  {
   "cell_type": "code",
   "execution_count": 48,
   "metadata": {
    "id": "3Z-ygku6uXdr"
   },
   "outputs": [],
   "source": [
    "def is_prime(n):\n",
    "    '''\n",
    "    Checks whether the argument n is a prime number.\n",
    "    Uses a brute force search for factors between 1 and n.\n",
    "    '''\n",
    "    for j in range(2,n):  # the list of numbers 2,3,...,n-1.\n",
    "        if n%j == 0:  # is n divisible by j?\n",
    "            print(f\"{j} is a factor of {n}.\")\n",
    "            return False\n",
    "    return True"
   ]
  },
  {
   "cell_type": "markdown",
   "metadata": {
    "id": "kLAH4a_buXdr"
   },
   "source": [
    "An important note:  the `return` keyword **terminates** the function.  So as soon as a factor is found, the function terminates and outputs `False`.  If no factor is found, then the function execution survives past the loop, and the line `return True` is executed to terminate the function."
   ]
  },
  {
   "cell_type": "code",
   "execution_count": 45,
   "metadata": {
    "id": "LSjrO41kuXdr"
   },
   "outputs": [
    {
     "name": "stdout",
     "output_type": "stream",
     "text": [
      "7 is a factor of 91.\n"
     ]
    },
    {
     "data": {
      "text/plain": [
       "False"
      ]
     },
     "execution_count": 45,
     "metadata": {},
     "output_type": "execute_result"
    }
   ],
   "source": [
    "is_prime(91)"
   ]
  },
  {
   "cell_type": "code",
   "execution_count": 49,
   "metadata": {
    "id": "478jwHBwuXdr"
   },
   "outputs": [
    {
     "name": "stdout",
     "output_type": "stream",
     "text": [
      "True\n"
     ]
    }
   ],
   "source": [
    "print(is_prime(101))"
   ]
  },
  {
   "cell_type": "markdown",
   "metadata": {
    "id": "RLMZKMW4uXds"
   },
   "source": [
    "**TRY IT!** Try the `is_prime` function on bigger numbers -- try numbers with 4 digits, 5 digits, 6 digits.  Where does it start to slow down?  Do you get any errors when the numbers are large?  Make sure to save your work first, just in case this crashes your computer!  \n",
    "\n"
   ]
  },
  {
   "cell_type": "markdown",
   "metadata": {
    "id": "Nxhj-gMjuXds"
   },
   "source": [
    "There are two limiting factors, which we study in more detail later.  These are **time** and **space** (your computer's memory space).  As the loop of `is_prime` goes on and on, it might take your computer a long time!  If each step of the loop takes only a nanosecond (1 billionth of a second), the loop would take about a second when executing `is_prime(1000000001)`.  If you tried `is_prime` on a much larger number, like `is_prime(2**101 - 1)`, the loop would take longer than the lifetime of the Earth.\n",
    "\n",
    "The other issue that can arise is a problem with *space*.  In Python 3.x, the `range(2,n)` cleverly *avoids* storing all the numbers between `2` and `n-1` in memory.  It just remembers the endpoints, and how to proceed from one number to the next.  In the older version, Python 2.x, the range command `range(2,n)` would have tried to store the entire list of numbers `[2,3,4,...,n-1]` in the memory of your computer.  Your computer has some (4 or 8 or 16, perhaps) gigabytes of memory (RAM).  A gigabyte is a billion bytes, and a byte is enough memory to store a number between 0 and 255.  (More detail about this later!).  So a gigabyte will not even hold a billion numbers.  So our `is_prime` function would have led to memory problems in Python 2.x, but in Python 3.x we don't have to worry (for now) about space."
   ]
  },
  {
   "cell_type": "markdown",
   "metadata": {
    "id": "aojvLt0YuXds"
   },
   "source": [
    "## Handling errors by raising exceptions\n",
    "\n",
    "In the previous batch of exercises, we tried to modify functions to be a bit more intelligent -- identifying when numbers were \"too big\" for example.  There's a professional way to handle these situations, by raising *exceptions*.  Here is the [official documentation on errors and exceptions](https://docs.python.org/3/tutorial/errors.html).  We will focus on raising exceptions to catch \"bad inputs\" to functions.  Let's revisit our `is_even` function."
   ]
  },
  {
   "cell_type": "code",
   "execution_count": 53,
   "metadata": {
    "id": "8-pN2piIuXds"
   },
   "outputs": [],
   "source": [
    "def is_even(n):\n",
    "    return (n%2 == 0)"
   ]
  },
  {
   "cell_type": "code",
   "execution_count": 54,
   "metadata": {
    "id": "9N-eMKduuXds"
   },
   "outputs": [
    {
     "data": {
      "text/plain": [
       "False"
      ]
     },
     "execution_count": 54,
     "metadata": {},
     "output_type": "execute_result"
    }
   ],
   "source": [
    "is_even(3.14)  # What will this do?"
   ]
  },
  {
   "cell_type": "code",
   "execution_count": 55,
   "metadata": {
    "id": "rmVWWIM9uXds"
   },
   "outputs": [
    {
     "data": {
      "text/plain": [
       "1.1400000000000001"
      ]
     },
     "execution_count": 55,
     "metadata": {},
     "output_type": "execute_result"
    }
   ],
   "source": [
    "3.14%2  # Well, this explains it!"
   ]
  },
  {
   "cell_type": "markdown",
   "metadata": {
    "id": "PvqMgEecuXds"
   },
   "source": [
    "Although the output of `is_even(3.14)` might be what you want, a smarter function might let the user know that 3.14 should not be input into `is_even`.  We commonly ask whether *integers* are even or odd; if a non-integer ends up input to `is_even`, it might be a sign of a bug elsewhere.  One possibility is to modify the function by manually printing an error message."
   ]
  },
  {
   "cell_type": "code",
   "execution_count": 56,
   "metadata": {
    "id": "huFP5FyeuXds"
   },
   "outputs": [],
   "source": [
    "def is_even(n):\n",
    "    if type(n) == int:\n",
    "        return (n%2 == 0)\n",
    "    else:\n",
    "        print(\"Bad input!  Please input integers only.\")\n",
    "        return None"
   ]
  },
  {
   "cell_type": "code",
   "execution_count": 57,
   "metadata": {
    "id": "2KZBZWcHuXdt"
   },
   "outputs": [
    {
     "data": {
      "text/plain": [
       "True"
      ]
     },
     "execution_count": 57,
     "metadata": {},
     "output_type": "execute_result"
    }
   ],
   "source": [
    "is_even(4)"
   ]
  },
  {
   "cell_type": "code",
   "execution_count": 60,
   "metadata": {
    "id": "NBOviOZruXdt"
   },
   "outputs": [
    {
     "name": "stdout",
     "output_type": "stream",
     "text": [
      "Bad input!  Please input integers only.\n",
      "None\n"
     ]
    }
   ],
   "source": [
    "print(is_even(3.14))"
   ]
  },
  {
   "cell_type": "markdown",
   "metadata": {
    "id": "mAXQeQhyuXdt"
   },
   "source": [
    "This behavior is a bit better.  The output of the function is neither True nor False, when a non-integer is input.  Instead, the smarter function outputs `None`, which is exactly what it sounds like."
   ]
  },
  {
   "cell_type": "code",
   "execution_count": 61,
   "metadata": {
    "id": "bYi3Vy4duXdt"
   },
   "outputs": [
    {
     "data": {
      "text/plain": [
       "NoneType"
      ]
     },
     "execution_count": 61,
     "metadata": {},
     "output_type": "execute_result"
    }
   ],
   "source": [
    "type(None) # A zen command."
   ]
  },
  {
   "cell_type": "markdown",
   "metadata": {
    "id": "u1VJVIs8uXdt"
   },
   "source": [
    "Instead of manually using a print command and returning None, we can use Python's built-in `exception` class.  Raising exceptions is the Pythonic way of catching errors, and this will make things smoother in the long term.  Here's a new and safe `is_even` function."
   ]
  },
  {
   "cell_type": "code",
   "execution_count": 62,
   "metadata": {
    "id": "zaktPSqXuXdt"
   },
   "outputs": [],
   "source": [
    "def is_even(n):\n",
    "    if type(n) == int:\n",
    "        return (n%2 == 0)\n",
    "    else:\n",
    "        raise TypeError('Only integers can be even or odd.')"
   ]
  },
  {
   "cell_type": "code",
   "execution_count": 63,
   "metadata": {
    "id": "49h2r4O3uXdt"
   },
   "outputs": [
    {
     "data": {
      "text/plain": [
       "False"
      ]
     },
     "execution_count": 63,
     "metadata": {},
     "output_type": "execute_result"
    }
   ],
   "source": [
    "is_even(3)"
   ]
  },
  {
   "cell_type": "code",
   "execution_count": 64,
   "metadata": {
    "id": "iOw7QU5DuXdt"
   },
   "outputs": [
    {
     "ename": "TypeError",
     "evalue": "Only integers can be even or odd.",
     "output_type": "error",
     "traceback": [
      "\u001b[0;31m---------------------------------------------------------------------------\u001b[0m",
      "\u001b[0;31mTypeError\u001b[0m                                 Traceback (most recent call last)",
      "\u001b[1;32m/Users/ssuzana/python-programming-for-math/content/02-functions-control-statements.ipynb Cell 63\u001b[0m line \u001b[0;36m1\n\u001b[0;32m----> <a href='vscode-notebook-cell:/Users/ssuzana/python-programming-for-math/content/02-functions-control-statements.ipynb#Y121sZmlsZQ%3D%3D?line=0'>1</a>\u001b[0m is_even(\u001b[39m3.14\u001b[39;49m)\n",
      "\u001b[1;32m/Users/ssuzana/python-programming-for-math/content/02-functions-control-statements.ipynb Cell 63\u001b[0m line \u001b[0;36m5\n\u001b[1;32m      <a href='vscode-notebook-cell:/Users/ssuzana/python-programming-for-math/content/02-functions-control-statements.ipynb#Y121sZmlsZQ%3D%3D?line=2'>3</a>\u001b[0m     \u001b[39mreturn\u001b[39;00m (n\u001b[39m%\u001b[39m\u001b[39m2\u001b[39m \u001b[39m==\u001b[39m \u001b[39m0\u001b[39m)\n\u001b[1;32m      <a href='vscode-notebook-cell:/Users/ssuzana/python-programming-for-math/content/02-functions-control-statements.ipynb#Y121sZmlsZQ%3D%3D?line=3'>4</a>\u001b[0m \u001b[39melse\u001b[39;00m:\n\u001b[0;32m----> <a href='vscode-notebook-cell:/Users/ssuzana/python-programming-for-math/content/02-functions-control-statements.ipynb#Y121sZmlsZQ%3D%3D?line=4'>5</a>\u001b[0m     \u001b[39mraise\u001b[39;00m \u001b[39mTypeError\u001b[39;00m(\u001b[39m'\u001b[39m\u001b[39mOnly integers can be even or odd.\u001b[39m\u001b[39m'\u001b[39m)\n",
      "\u001b[0;31mTypeError\u001b[0m: Only integers can be even or odd."
     ]
    }
   ],
   "source": [
    "is_even(3.14)"
   ]
  },
  {
   "cell_type": "markdown",
   "metadata": {
    "id": "W-Ns1RSDuXdt"
   },
   "source": [
    "Instead of manually printing the error message and returning `None`, we have raised a `TypeError`.  This gives information about the kind of error, and a custom error message is displayed at the end.  Type errors are meant for situations where a variable belongs to the wrong type.  `TypeError` is just one kind of \"exception\" -- the full built-in hierarchy of exceptions can be found in the [official Python documentation](https://docs.python.org/3/library/exceptions.html#exception-hierarchy).\n",
    "\n",
    "Another kind of exception is the `ValueError`.  It seems similar to `TypeError` at first, but `ValueError` is meant to catch an input that has a \"bad\" value, even if it is the right type.  For example, here is a square root function that only works with positive input.  It should raise an exception (error message) when a negative number is input.  Both positive and negative numbers can be represented as floats, so the error doesn't represent the *wrong type*.  The error represents a *bad value*.  "
   ]
  },
  {
   "cell_type": "code",
   "execution_count": 66,
   "metadata": {
    "id": "YC762YAjuXdu"
   },
   "outputs": [],
   "source": [
    "def sqrt(x):\n",
    "    '''\n",
    "    Estimates the square root of a positive number x.\n",
    "    '''\n",
    "    if x < 0:\n",
    "        raise ValueError('Cannot approximate square root of negative numbers.')\n",
    "    guess= x/2 # A decent place to start\n",
    "    while True: # A dangerous loop!  See next section...\n",
    "        new_guess = 0.5 * (guess + x/guess)\n",
    "        if abs(new_guess - guess) < .000000001: # close enough!\n",
    "            return new_guess\n",
    "        guess = new_guess"
   ]
  },
  {
   "cell_type": "code",
   "execution_count": 67,
   "metadata": {
    "id": "0uwvsrDNuXdu"
   },
   "outputs": [
    {
     "data": {
      "text/plain": [
       "1.7320508075688772"
      ]
     },
     "execution_count": 67,
     "metadata": {},
     "output_type": "execute_result"
    }
   ],
   "source": [
    "sqrt(3) # This should be ok."
   ]
  },
  {
   "cell_type": "code",
   "execution_count": 68,
   "metadata": {
    "id": "DpBaST5WuXdu",
    "scrolled": true
   },
   "outputs": [
    {
     "ename": "ValueError",
     "evalue": "Cannot approximate square root of negative numbers.",
     "output_type": "error",
     "traceback": [
      "\u001b[0;31m---------------------------------------------------------------------------\u001b[0m",
      "\u001b[0;31mValueError\u001b[0m                                Traceback (most recent call last)",
      "\u001b[1;32m/Users/ssuzana/python-programming-for-math/content/02-functions-control-statements.ipynb Cell 67\u001b[0m line \u001b[0;36m1\n\u001b[0;32m----> <a href='vscode-notebook-cell:/Users/ssuzana/python-programming-for-math/content/02-functions-control-statements.ipynb#Y125sZmlsZQ%3D%3D?line=0'>1</a>\u001b[0m sqrt(\u001b[39m-\u001b[39;49m\u001b[39m3\u001b[39;49m)\n",
      "\u001b[1;32m/Users/ssuzana/python-programming-for-math/content/02-functions-control-statements.ipynb Cell 67\u001b[0m line \u001b[0;36m6\n\u001b[1;32m      <a href='vscode-notebook-cell:/Users/ssuzana/python-programming-for-math/content/02-functions-control-statements.ipynb#Y125sZmlsZQ%3D%3D?line=1'>2</a>\u001b[0m \u001b[39m\u001b[39m\u001b[39m'''\u001b[39;00m\n\u001b[1;32m      <a href='vscode-notebook-cell:/Users/ssuzana/python-programming-for-math/content/02-functions-control-statements.ipynb#Y125sZmlsZQ%3D%3D?line=2'>3</a>\u001b[0m \u001b[39mEstimates the square root of a positive number x.\u001b[39;00m\n\u001b[1;32m      <a href='vscode-notebook-cell:/Users/ssuzana/python-programming-for-math/content/02-functions-control-statements.ipynb#Y125sZmlsZQ%3D%3D?line=3'>4</a>\u001b[0m \u001b[39m'''\u001b[39;00m\n\u001b[1;32m      <a href='vscode-notebook-cell:/Users/ssuzana/python-programming-for-math/content/02-functions-control-statements.ipynb#Y125sZmlsZQ%3D%3D?line=4'>5</a>\u001b[0m \u001b[39mif\u001b[39;00m x \u001b[39m<\u001b[39m \u001b[39m0\u001b[39m:\n\u001b[0;32m----> <a href='vscode-notebook-cell:/Users/ssuzana/python-programming-for-math/content/02-functions-control-statements.ipynb#Y125sZmlsZQ%3D%3D?line=5'>6</a>\u001b[0m     \u001b[39mraise\u001b[39;00m \u001b[39mValueError\u001b[39;00m(\u001b[39m'\u001b[39m\u001b[39mCannot approximate square root of negative numbers.\u001b[39m\u001b[39m'\u001b[39m)\n\u001b[1;32m      <a href='vscode-notebook-cell:/Users/ssuzana/python-programming-for-math/content/02-functions-control-statements.ipynb#Y125sZmlsZQ%3D%3D?line=6'>7</a>\u001b[0m guess\u001b[39m=\u001b[39m x\u001b[39m/\u001b[39m\u001b[39m2\u001b[39m \u001b[39m# A decent place to start\u001b[39;00m\n\u001b[1;32m      <a href='vscode-notebook-cell:/Users/ssuzana/python-programming-for-math/content/02-functions-control-statements.ipynb#Y125sZmlsZQ%3D%3D?line=7'>8</a>\u001b[0m \u001b[39mwhile\u001b[39;00m \u001b[39mTrue\u001b[39;00m: \u001b[39m# A dangerous loop!  See next section...\u001b[39;00m\n",
      "\u001b[0;31mValueError\u001b[0m: Cannot approximate square root of negative numbers."
     ]
    }
   ],
   "source": [
    "sqrt(-3)"
   ]
  },
  {
   "cell_type": "markdown",
   "metadata": {
    "id": "aUzsimjyuXdu"
   },
   "source": [
    "By raising the `ValueError`, we have avoided an endless loop... the sort of problem that crashes computers!  If you know that your function is only meant for certain kinds of inputs, it is best to catch errors by raising exceptions."
   ]
  },
  {
   "cell_type": "markdown",
   "metadata": {
    "id": "8RP84fPOuXdu"
   },
   "source": [
    "## While loops and implementation of the Eucidean algorithm"
   ]
  },
  {
   "cell_type": "markdown",
   "metadata": {
    "id": "imB-GVzNuXdu"
   },
   "source": [
    "We *almost* have all the tools we need to implement the Euclidean algorithm.  The last tool we will need is the **while loop**.  We have seen the *for loop* already, which is very useful for iterating over a range of numbers.  The Euclidean algorithm involves repetition, but there is no way to know in advance how many steps it will take.  The while loop allows us to repeat a process as long as a boolean value (sometimes called a **flag**) is True.  The following countdown example illustrates the structure of a while loop."
   ]
  },
  {
   "cell_type": "code",
   "execution_count": 73,
   "metadata": {
    "id": "iIA-U8KouXdw"
   },
   "outputs": [],
   "source": [
    "def countdown(n):\n",
    "    current_value = n\n",
    "    while current_value > 0:  # The condition (current_value > 0) is checked before every instance of the scope!\n",
    "        print(current_value)\n",
    "        current_value = current_value - 1\n",
    "    print(\"We are out of the while loop since the current value is 0.\")"
   ]
  },
  {
   "cell_type": "code",
   "execution_count": 74,
   "metadata": {
    "id": "vqtBFRjYuXdw"
   },
   "outputs": [
    {
     "name": "stdout",
     "output_type": "stream",
     "text": [
      "10\n",
      "9\n",
      "8\n",
      "7\n",
      "6\n",
      "5\n",
      "4\n",
      "3\n",
      "2\n",
      "1\n",
      "We are out of the while loop since the current value is 0.\n"
     ]
    }
   ],
   "source": [
    "countdown(10)"
   ]
  },
  {
   "cell_type": "markdown",
   "metadata": {
    "id": "UyatsGmduXdw"
   },
   "source": [
    "The while loop syntax begins with `while <boolean>:` and the following indented lines comprise the scope of the loop.  If the boolean is `True`, then the scope of the loop is executed.  If the boolean is `True` again afterwards, then the scope of the loop is executed again.  And again and again and so on.\n",
    "\n",
    "This can be a **dangerous process**!  For example, what would happen if you made a little typo and the last line of the while loop read `current_value = current_value + 1`?  The numbers would increase and increase... and the boolean `current_value > 0` would **always** be `True`.  Therefore the loop would never end.  Bigger and bigger numbers would scroll down your computer screen.  \n",
    "\n",
    "You might panic under such a circumstance, and maybe turn your computer off to stop the loop.  Here is some advice for when you get stuck in such a neverending loop, and you're using Google Colab.\n",
    "\n",
    "1.  Back up your work often.  When you're programming, make sure everything else is saved just in case.\n",
    "2.  Save your programming work (use \"Save a copy in GitHub\" and/or \"Save a copy in Drive\") often, especially before running a cell with a loop for the first time.\n",
    "3.  If you *do* get stuck in a neverending loop, click on \"Runtime... Interrupt execution\".  This will often unstick the loop and allow you to pick up where you left off.  \n",
    "\n",
    "Now, if you're feeling brave, save your work, change the while loop so that it never ends, and try to recover where you left off.  But be aware that this could cause your computer to freeze or behave erratically, crashing your browser, etc.  Don't panic... it probably won't break your computer permanently.\n",
    "\n",
    "The neverending loop causes two problems here.  One is with the computer processor, which will be essentially spinning its wheels.  This is called [busy waiting](https://en.wikipedia.org/wiki/Busy_waiting), and the computer will essentially be busy waiting forever.  The other problem is that your loop is printing more and more lines of text into the notebook.  This could easily crash your web browser, which is trying to store and display zillions of lines of numbers.  So be ready for problems!  "
   ]
  },
  {
   "cell_type": "markdown",
   "metadata": {
    "id": "7qfo2YKSuXdw"
   },
   "source": [
    "### The Euclidean algorithm with a while loop"
   ]
  },
  {
   "cell_type": "markdown",
   "metadata": {
    "collapsed": true,
    "id": "_zC7y26QuXdw"
   },
   "source": [
    "The **Euclidean Algorithm** is a process of repeated division with remainder.  Beginning with two integers `a` (dividend) and `b` (divisor), one computes quotient `q` and remainder `q` to express `a = qb + r`.  Then `b` becomes the dividend and `r` becomes the divisor, and one repeats.  The repetition continues, and the **last nonzero** remainder is the greatest common divisor of `a` and `b`."
   ]
  },
  {
   "cell_type": "markdown",
   "metadata": {
    "id": "D7v0mXjmuXdw"
   },
   "source": [
    "We implement the Euclidean algorithm in a few variations.  The first will be a verbose version, to show the user what happens at every step.  We use a while loop to take care of the repetition."
   ]
  },
  {
   "cell_type": "code",
   "execution_count": 75,
   "metadata": {
    "id": "pdc1E8U0uXdw"
   },
   "outputs": [],
   "source": [
    "def Euclidean_algorithm(a,b):\n",
    "    dividend = a\n",
    "    divisor = b\n",
    "    while divisor != 0:   # Recall that != means \"is not equal to\".\n",
    "        quotient = dividend // divisor\n",
    "        remainder = dividend % divisor\n",
    "        print(f\"{dividend} = {quotient} ({divisor}) + {remainder}\")\n",
    "        dividend = divisor  \n",
    "        divisor = remainder"
   ]
  },
  {
   "cell_type": "code",
   "execution_count": 76,
   "metadata": {
    "id": "N1atLqX-uXdw"
   },
   "outputs": [
    {
     "name": "stdout",
     "output_type": "stream",
     "text": [
      "133 = 2 (58) + 17\n",
      "58 = 3 (17) + 7\n",
      "17 = 2 (7) + 3\n",
      "7 = 2 (3) + 1\n",
      "3 = 3 (1) + 0\n"
     ]
    }
   ],
   "source": [
    "Euclidean_algorithm(133, 58)"
   ]
  },
  {
   "cell_type": "code",
   "execution_count": 77,
   "metadata": {
    "id": "2Ha1idXQuXdw"
   },
   "outputs": [
    {
     "name": "stdout",
     "output_type": "stream",
     "text": [
      "1312331323 = 22 (58123123) + 33622617\n",
      "58123123 = 1 (33622617) + 24500506\n",
      "33622617 = 1 (24500506) + 9122111\n",
      "24500506 = 2 (9122111) + 6256284\n",
      "9122111 = 1 (6256284) + 2865827\n",
      "6256284 = 2 (2865827) + 524630\n",
      "2865827 = 5 (524630) + 242677\n",
      "524630 = 2 (242677) + 39276\n",
      "242677 = 6 (39276) + 7021\n",
      "39276 = 5 (7021) + 4171\n",
      "7021 = 1 (4171) + 2850\n",
      "4171 = 1 (2850) + 1321\n",
      "2850 = 2 (1321) + 208\n",
      "1321 = 6 (208) + 73\n",
      "208 = 2 (73) + 62\n",
      "73 = 1 (62) + 11\n",
      "62 = 5 (11) + 7\n",
      "11 = 1 (7) + 4\n",
      "7 = 1 (4) + 3\n",
      "4 = 1 (3) + 1\n",
      "3 = 3 (1) + 0\n"
     ]
    }
   ],
   "source": [
    "Euclidean_algorithm(1312331323, 58123123)"
   ]
  },
  {
   "cell_type": "markdown",
   "metadata": {
    "id": "rMeCKV5OuXdx"
   },
   "source": [
    "This is excellent if we want to know every step of the Euclidean algorithm.  If we just want to know the GCD of two numbers, we can be less verbose.  We carefully return the last nonzero remainder after the while loop is concluded.  This last nonzero remainder becomes the divisor when the remainder becomes zero, and then it would become the dividend in the next (unprinted) line.  That is why we return the (absolute value) of the dividend after the loop is concluded.  You might insert a line at the end of the loop, like `print(dividend, divisor, remainder)` to help you track the variables."
   ]
  },
  {
   "cell_type": "code",
   "execution_count": 78,
   "metadata": {
    "id": "vCVQMG-puXdx"
   },
   "outputs": [],
   "source": [
    "def GCD(a,b):\n",
    "    dividend = a # The first dividend is a.\n",
    "    divisor = b # The first divisor is b.\n",
    "    while divisor != 0:   # Recall that != means \"not equal to\".\n",
    "        quotient = dividend // divisor\n",
    "        remainder = dividend % divisor\n",
    "        dividend = divisor  \n",
    "        divisor = remainder\n",
    "    return abs(dividend)  #  abs() is used, since we like our GCDs to be positive."
   ]
  },
  {
   "cell_type": "markdown",
   "metadata": {
    "id": "9APX4vd1uXdx"
   },
   "source": [
    "Note that the `return dividend` statement occurs *after* the scope of the while loop.  So as soon as the *divisor* variable equals zero, the funtion `GCD` returns the *dividend* variable and terminates."
   ]
  },
  {
   "cell_type": "code",
   "execution_count": 79,
   "metadata": {
    "id": "3O3UOceWuXdx"
   },
   "outputs": [
    {
     "data": {
      "text/plain": [
       "3"
      ]
     },
     "execution_count": 79,
     "metadata": {},
     "output_type": "execute_result"
    }
   ],
   "source": [
    "GCD(111,27)"
   ]
  },
  {
   "cell_type": "code",
   "execution_count": 80,
   "metadata": {
    "id": "trzxn7cvuXdx"
   },
   "outputs": [
    {
     "data": {
      "text/plain": [
       "3"
      ]
     },
     "execution_count": 80,
     "metadata": {},
     "output_type": "execute_result"
    }
   ],
   "source": [
    "GCD(111,-27)"
   ]
  },
  {
   "cell_type": "markdown",
   "metadata": {
    "id": "8GZtAYjquXdx"
   },
   "source": [
    "We can refine our code in a few ways.  First, note that the `quotient` variable is never used!  It was nice in the verbose version of the Euclidean algorithm, but plays no role in finding the GCD.  Our refined code reads\n",
    "```python\n",
    "def GCD(a,b):\n",
    "    dividend = a  \n",
    "    divisor = b  \n",
    "    while divisor != 0:   # Recall that != means \"not equal to\".\n",
    "        remainder = dividend % divisor\n",
    "        dividend = divisor  \n",
    "        divisor = remainder\n",
    "    return abs(dividend) \n",
    "```"
   ]
  },
  {
   "cell_type": "markdown",
   "metadata": {
    "id": "RCY3VVVquXdx"
   },
   "source": [
    "Now there are two slick Python tricks we can use to shorten the code.  The first is called **multiple assignment**.  It is possible to set the values of two variables in a single line of code, with a syntax like below."
   ]
  },
  {
   "cell_type": "code",
   "execution_count": 81,
   "metadata": {
    "id": "xShE8MpPuXdx"
   },
   "outputs": [],
   "source": [
    "x,y = 2,3  # Sets x to 2 and y to 3."
   ]
  },
  {
   "cell_type": "markdown",
   "metadata": {
    "id": "0nDSIXkluXdx"
   },
   "source": [
    "This is particular useful for self-referential assignments, because as for ordinary assignment, the right side is evaluated first and then bound to the variables on the left side.  For example, after the line above, try the line below.  Use print statements to see what the values of the variables are afterwards!"
   ]
  },
  {
   "cell_type": "code",
   "execution_count": 82,
   "metadata": {
    "id": "_hrHKCYUuXdx"
   },
   "outputs": [],
   "source": [
    "x,y = y,x #  Guess what this does!"
   ]
  },
  {
   "cell_type": "code",
   "execution_count": 84,
   "metadata": {
    "id": "mi80uo4uuXdx"
   },
   "outputs": [
    {
     "name": "stdout",
     "output_type": "stream",
     "text": [
      "x = 3\n",
      "y = 2\n"
     ]
    }
   ],
   "source": [
    "print(\"x =\",x) \n",
    "print(\"y =\",y)"
   ]
  },
  {
   "cell_type": "markdown",
   "metadata": {
    "id": "Bl5eHRoYuXdy"
   },
   "source": [
    "Now we can use multiple assignment to turn three lines of code into one line of code.  For the `remainder` variable is only used temporarily before its value is given to the `divisor` variable.  Using multiple assignment, the three lines\n",
    "\n",
    "```python\n",
    "remainder = dividend % divisor\n",
    "dividend = divisor  \n",
    "divisor = remainder\n",
    "```\n",
    "can be written in one line,\n",
    "\n",
    "```python\n",
    "dividend, divisor = divisor, dividend % divisor # Evaluations on the right occur before any assignments!\n",
    "```"
   ]
  },
  {
   "cell_type": "markdown",
   "metadata": {
    "id": "CFUjeCixuXdy"
   },
   "source": [
    "Our newly shortened GCD function looks like this.\n",
    "\n",
    "```python\n",
    "def GCD(a,b):\n",
    "    dividend = a  \n",
    "    divisor = b  \n",
    "    while divisor != 0:   # Recall that != means \"not equal to\".\n",
    "        dividend, divisor = divisor, dividend % divisor\n",
    "    return abs(dividend)\n",
    "```"
   ]
  },
  {
   "cell_type": "markdown",
   "metadata": {
    "id": "IP0eZbSCuXdy"
   },
   "source": [
    "The next trick involves the while loop.  The usual syntax has the form `while <boolean>:`.  But if `while` is followed by a numerical type, e.g. `while <int>:`, then the scope of the while loop will execute as long as the number is nonzero!  Therefore, the line\n",
    "```python\n",
    "while divisor != 0:\n",
    "```\n",
    "can be replaced by the shorter line\n",
    "```python\n",
    "while divisor:\n",
    "```\n",
    "\n",
    "This is truly a trick.  It probably won't speed anything up, and it does not make your program easier to read for beginners.  So use it if you prefer communicating with experienced Python programmers!  Here is the whole function again.\n",
    "```python\n",
    "def GCD(a,b):\n",
    "    dividend = a  \n",
    "    divisor = b  \n",
    "    while divisor:   # Executes the scope if divisor is nonzero.\n",
    "        dividend, divisor = divisor, dividend % divisor\n",
    "    return abs(dividend)\n",
    "```"
   ]
  },
  {
   "cell_type": "markdown",
   "metadata": {
    "id": "yKSoAfbUuXdy"
   },
   "source": [
    "The next optimization is a bit more dangerous for beginners, but it works here.  In general, it can be dangerous to operate directly on the arguments to a function.  But in this setting, it is safe, and makes no real difference to the Python interpreter.  Instead of creating new variables called `dividend` and `divisor`, one can manipulate `a` and `b` directly within the function.  If you do this, the GCD function can be shortened to the following."
   ]
  },
  {
   "cell_type": "code",
   "execution_count": 85,
   "metadata": {
    "id": "ikac7v-8uXdy"
   },
   "outputs": [],
   "source": [
    "def GCD(a,b):\n",
    "    while b:   # I.e., while b != 0.\n",
    "        a, b = b, a % b\n",
    "    return abs(a)"
   ]
  },
  {
   "cell_type": "code",
   "execution_count": 87,
   "metadata": {
    "id": "SP8md911uXdy"
   },
   "outputs": [
    {
     "data": {
      "text/plain": [
       "1"
      ]
     },
     "execution_count": 87,
     "metadata": {},
     "output_type": "execute_result"
    }
   ],
   "source": [
    "# Try it out.  Try it on some big numbers and see how quick it runs!\n",
    "GCD(1312331323, 58123123)"
   ]
  },
  {
   "cell_type": "markdown",
   "metadata": {
    "id": "HChX9z8ZuXdy"
   },
   "source": [
    "This code is essentially optimal, if one wishes to execute the Euclidean algorithm to find the GCD of two integers.  It almost [matches the GCD code in a standard Python library](https://stackoverflow.com/a/18944210).  It might be slightly faster than our original code -- but there is a tradeoff here between execution speed and readability of code.  In this and the following lessons, we often optimize enough for everyday purposes, but not so much that readability is lost."
   ]
  },
  {
   "cell_type": "markdown",
   "metadata": {
    "id": "t7NOYklsuXdy"
   },
   "source": [
    "## Exercises and explorations\n",
    "\n",
    "\n",
    "1.  What are the signals of scope in Python?\n",
    "\n",
    "2.  Write a function called area_circle, which takes one argument radius. The function should return the area of the circle, as a floating point number. Then add one line to the function, using string formatting, so that it additionally prints a helpful sentence of the form \"The area of a circle of radius 1.0 is 3.14159.\" (depending on the radius and the area it computes).\n",
    "\n",
    "3.  Write a function called factorial, which takes one argument called `n`.  The function should return the factorian of `n` when `n` is a positive integer.  Don't worry about what happens when `n` is zero, or a bad input.  Don't use recursion (if you know it) -- just use a for loop.\n",
    "\n",
    "4. `format` is an example of a \"string method\".  Another neat one is `replace`.  Try `\"Python\".replace(\"yth\",\"arag\")` to see what it does.  \n",
    "\n",
    "5.  Try the formatting codes `%` and `E` (instead of `f`) for a floating point number.  What do they do?\n",
    "\n",
    "6. Can you think of a reason you might want to have a function with *no* arguments?\n",
    "\n",
    "\n",
    "1.  Create a function `my_abs(x)` which outputs the absolute value of the argument `x`.  (Note that Python already has a built-in `abs(x)` function).  \n",
    "\n",
    "2.  Modify the `is_prime` function so that it prints a message `Number too big` and returns `None` if the input argument is bigger than one million.  (Note that `None` is a Python reserved word.  You can use the one-line statement `return None`.)  \n",
    "\n",
    "    ```python\n",
    "    def is_prime(n):\n",
    "        '''\n",
    "        Checks whether the argument n is a prime number.\n",
    "        Uses a brute force search for factors between 1 and n.\n",
    "        '''\n",
    "        for j in range(2,n):  # the list of numbers 2,3,...,n-1.\n",
    "            if n%j == 0:  # is n divisible by j?\n",
    "                print(f\"{j} is a factor of {n}.\")\n",
    "                return False\n",
    "        return True\n",
    "    ```\n",
    "\n",
    "1.  There's a special exception called `ZeroDivisionError`.  When do you think this occurs?  Try to make it occur!  Can you think of a time when you might want to raise this exception yourself?\n",
    "\n",
    "2.  Make the `is_prime` function from Exercise 8 safer by raising a `TypeError` or a `ValueError` when a \"bad\" input occurs.\n",
    "\n",
    "1.  Modify the `is_prime` function from Exercise 8 by using a while loop instead of `for j in range(2,n):`.  Hint:  the function should contain the lines `j = 2` and `while j < n:` and `j = j + 1` in various places.  Why might this be an improvement from the for loop?  Can you look for factors within a smaller range?\n",
    "\n",
    "3.  Write a Python function `thrarity` which takes an argument `n`, and outputs the string `threeven` if `n` is a multiple of three, or `throdd` is `n` is one more than a multiple of three, or `thrugly` if `n` is one less than a multiple of three.  Example:  `thrarity(31)` should output `throdd` and `thrarity(44)` should output `thrugly`.  Hint:  study the `if`/`elif` syntax at [the official Python tutorial](https://docs.python.org/3/tutorial/controlflow.html#if-statements).\n",
    "\n",
    "4.  Write a Python function `sum_of_squares(n)` which finds and prints a pair of natural numbers $x$, $y$, such that $x^2 + y^2 = n$.  The function should use a brute force search and return `None` if no such pair of numbers $x,y$ exists.  Explore which natural numbers can be expressed as sums of two squares. Hint:  look at prime numbers first!\n",
    "\n",
    "5.  Write a function `gamma(n)` which takes a positive integer n as input, and outputs the difference between the harmonic sum $\\frac{1}{1} + \\frac{1}{2} + \\frac{1}{3} + \\cdots + \\frac{1}{n}$ and the natural logarithm $\\log(n)$.  Use [`numpy`](https://numpy.org/doc/stable/) to compute the logarithm, by using the command `from numpy import log` in a separate cell.  Approximate $\\gamma(n)$ as $n \\rightarrow \\infty$.  How large does $n$ need to be to get five digits of precision on this limit?  Can you prove that the limit $\\lim_{n \\rightarrow \\infty} \\gamma(n)$ exists?\n",
    "\n",
    "2.  Modify the `Euclidean_algorithm` function to create a function which returns the *number of steps* that the Euclidean algorithm requires, i.e., the number of divisions-with-remainder.  How does the number of steps compare to the size of the input numbers?  \n",
    "\n",
    "    ```python\n",
    "    def Euclidean_algorithm(a,b):\n",
    "    dividend = a\n",
    "    divisor = b\n",
    "    while divisor != 0:   # Recall that != means \"is not equal to\".\n",
    "        quotient = dividend // divisor\n",
    "        remainder = dividend % divisor\n",
    "        print(f\"{dividend} = {quotient} ({divisor}) + {remainder}\")\n",
    "        dividend = divisor  \n",
    "        divisor = remainder\n",
    "    ```\n",
    "\n",
    "3.  When $a$ and $b$ are integers, $GCD(a,b) \\cdot LCM(a,b) = ab$.  Use this fact to write an LCM-function.  Try to make your function output only integers (not floats) and behave in a good way even if $a,b$ are zero.\n",
    "\n",
    "\n",
    "5.  Challenge:  Write a function `approximate_e(n)` which approximates $e$ with a maximum error of $10^{-n}$.  (You can assume $n < 1000$ if necessary.)  Try a while loop and `import mpmath`.  Back up your work often! "
   ]
  }
 ],
 "metadata": {
  "colab": {
   "name": "P4M_Notebook2.ipynb",
   "provenance": [],
   "toc_visible": true
  },
  "kernelspec": {
   "display_name": "Python 3",
   "language": "python",
   "name": "python3"
  },
  "language_info": {
   "codemirror_mode": {
    "name": "ipython",
    "version": 3
   },
   "file_extension": ".py",
   "mimetype": "text/x-python",
   "name": "python",
   "nbconvert_exporter": "python",
   "pygments_lexer": "ipython3",
   "version": "3.10.11"
  }
 },
 "nbformat": 4,
 "nbformat_minor": 0
}